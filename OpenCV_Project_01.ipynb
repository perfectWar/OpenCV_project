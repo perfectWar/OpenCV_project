{
 "cells": [
  {
   "cell_type": "code",
   "execution_count": 1,
   "id": "69f2482e",
   "metadata": {},
   "outputs": [
    {
     "name": "stdout",
     "output_type": "stream",
     "text": [
      "Collecting opencv-python\n",
      "  Downloading opencv_python-4.10.0.82-cp37-abi3-win_amd64.whl (38.8 MB)\n",
      "     ---------------------------------------- 38.8/38.8 MB 1.3 MB/s eta 0:00:00\n",
      "Requirement already satisfied: numpy>=1.21.2 in c:\\users\\raths\\anaconda3\\lib\\site-packages (from opencv-python) (1.23.5)\n",
      "Installing collected packages: opencv-python\n",
      "Successfully installed opencv-python-4.10.0.82\n"
     ]
    }
   ],
   "source": [
    "!pip install opencv-python"
   ]
  },
  {
   "cell_type": "code",
   "execution_count": 4,
   "id": "8980c496",
   "metadata": {},
   "outputs": [
    {
     "name": "stdout",
     "output_type": "stream",
     "text": [
      "Collecting mediapipe\n",
      "  Using cached mediapipe-0.10.14-cp310-cp310-win_amd64.whl (50.8 MB)\n",
      "Requirement already satisfied: flatbuffers>=2.0 in c:\\users\\raths\\anaconda3\\lib\\site-packages (from mediapipe) (24.3.25)\n",
      "Requirement already satisfied: matplotlib in c:\\users\\raths\\anaconda3\\lib\\site-packages (from mediapipe) (3.7.0)\n",
      "Collecting opencv-contrib-python\n",
      "  Downloading opencv_contrib_python-4.10.0.82-cp37-abi3-win_amd64.whl (45.5 MB)\n",
      "     ---------------------------------------- 45.5/45.5 MB 1.2 MB/s eta 0:00:00\n",
      "Requirement already satisfied: numpy in c:\\users\\raths\\anaconda3\\lib\\site-packages (from mediapipe) (1.23.5)\n",
      "Collecting sounddevice>=0.4.4\n",
      "  Downloading sounddevice-0.4.7-py3-none-win_amd64.whl (200 kB)\n",
      "     -------------------------------------- 200.1/200.1 kB 1.0 MB/s eta 0:00:00\n",
      "Requirement already satisfied: protobuf<5,>=4.25.3 in c:\\users\\raths\\anaconda3\\lib\\site-packages (from mediapipe) (4.25.3)\n",
      "Requirement already satisfied: attrs>=19.1.0 in c:\\users\\raths\\anaconda3\\lib\\site-packages (from mediapipe) (22.1.0)\n",
      "Requirement already satisfied: absl-py in c:\\users\\raths\\anaconda3\\lib\\site-packages (from mediapipe) (2.1.0)\n",
      "Collecting jaxlib\n",
      "  Using cached jaxlib-0.4.28-cp310-cp310-win_amd64.whl (51.5 MB)\n",
      "Collecting jax\n",
      "  Using cached jax-0.4.28-py3-none-any.whl (1.9 MB)\n",
      "Requirement already satisfied: CFFI>=1.0 in c:\\users\\raths\\anaconda3\\lib\\site-packages (from sounddevice>=0.4.4->mediapipe) (1.15.1)\n",
      "Requirement already satisfied: ml-dtypes>=0.2.0 in c:\\users\\raths\\anaconda3\\lib\\site-packages (from jax->mediapipe) (0.3.2)\n",
      "Requirement already satisfied: scipy>=1.9 in c:\\users\\raths\\anaconda3\\lib\\site-packages (from jax->mediapipe) (1.10.0)\n",
      "Requirement already satisfied: opt-einsum in c:\\users\\raths\\anaconda3\\lib\\site-packages (from jax->mediapipe) (3.3.0)\n",
      "Requirement already satisfied: contourpy>=1.0.1 in c:\\users\\raths\\anaconda3\\lib\\site-packages (from matplotlib->mediapipe) (1.0.5)\n",
      "Requirement already satisfied: fonttools>=4.22.0 in c:\\users\\raths\\anaconda3\\lib\\site-packages (from matplotlib->mediapipe) (4.25.0)\n",
      "Requirement already satisfied: pyparsing>=2.3.1 in c:\\users\\raths\\anaconda3\\lib\\site-packages (from matplotlib->mediapipe) (3.0.9)\n",
      "Requirement already satisfied: packaging>=20.0 in c:\\users\\raths\\anaconda3\\lib\\site-packages (from matplotlib->mediapipe) (22.0)\n",
      "Requirement already satisfied: python-dateutil>=2.7 in c:\\users\\raths\\anaconda3\\lib\\site-packages (from matplotlib->mediapipe) (2.8.2)\n",
      "Requirement already satisfied: cycler>=0.10 in c:\\users\\raths\\anaconda3\\lib\\site-packages (from matplotlib->mediapipe) (0.11.0)\n",
      "Requirement already satisfied: kiwisolver>=1.0.1 in c:\\users\\raths\\anaconda3\\lib\\site-packages (from matplotlib->mediapipe) (1.4.4)\n",
      "Requirement already satisfied: pillow>=6.2.0 in c:\\users\\raths\\anaconda3\\lib\\site-packages (from matplotlib->mediapipe) (9.4.0)\n",
      "Requirement already satisfied: pycparser in c:\\users\\raths\\anaconda3\\lib\\site-packages (from CFFI>=1.0->sounddevice>=0.4.4->mediapipe) (2.21)\n",
      "Requirement already satisfied: six>=1.5 in c:\\users\\raths\\anaconda3\\lib\\site-packages (from python-dateutil>=2.7->matplotlib->mediapipe) (1.16.0)\n",
      "Installing collected packages: opencv-contrib-python, sounddevice, jaxlib, jax, mediapipe\n",
      "Successfully installed jax-0.4.28 jaxlib-0.4.28 mediapipe-0.10.14 opencv-contrib-python-4.10.0.82 sounddevice-0.4.7\n"
     ]
    }
   ],
   "source": [
    "!pip install mediapipe"
   ]
  },
  {
   "cell_type": "code",
   "execution_count": 1,
   "id": "8f6931d6",
   "metadata": {},
   "outputs": [],
   "source": [
    "# importing the libraries \n",
    "import mediapipe as mp\n",
    "#open cv\n",
    "import cv2\n",
    "import numpy as np\n",
    "from mediapipe.framework.formats import landmark_pb2 #return the coordinates of the fingers\n",
    "import time\n",
    "import random"
   ]
  },
  {
   "cell_type": "code",
   "execution_count": 2,
   "id": "71f08be4",
   "metadata": {},
   "outputs": [],
   "source": [
    "mp_drawing = mp.solutions.drawing_utils"
   ]
  },
  {
   "cell_type": "code",
   "execution_count": 3,
   "id": "6dd4b19a",
   "metadata": {},
   "outputs": [],
   "source": [
    "mp_hands = mp.solutions.hands"
   ]
  },
  {
   "cell_type": "code",
   "execution_count": 4,
   "id": "ce2baf23",
   "metadata": {},
   "outputs": [],
   "source": [
    "score = 0"
   ]
  },
  {
   "cell_type": "code",
   "execution_count": 5,
   "id": "b2116d47",
   "metadata": {},
   "outputs": [],
   "source": [
    "x_enemy = random.randint(50,600)\n",
    "y_enemy = random.randint(50,400)"
   ]
  },
  {
   "cell_type": "code",
   "execution_count": 7,
   "id": "1c2e129a",
   "metadata": {},
   "outputs": [
    {
     "name": "stdout",
     "output_type": "stream",
     "text": [
      "Found\n",
      "Found\n",
      "Found\n",
      "13\n"
     ]
    }
   ],
   "source": [
    "def enemy():\n",
    "    global score, x_enemy, y_enemy\n",
    "    cv2.circle(image, (x_enemy, y_enemy), 25, (0,200,0),5)\n",
    "    \n",
    "video = cv2.VideoCapture(0)\n",
    "\n",
    "#More the senstivity more wrong detection\n",
    "with mp_hands.Hands(min_detection_confidence=0.8, min_tracking_confidence=0.5) as hands:\n",
    "    while video.isOpened():\n",
    "        _,frame = video.read()\n",
    "        \n",
    "        #converting the input video BGR to RGB (opencv works on BGR) (mediapipe works on RGB)\n",
    "        image = cv2.cvtColor(frame, cv2.COLOR_BGR2RGB)\n",
    "        image = cv2.flip(image,1)\n",
    "        \n",
    "        #mediapipe return the coordinates in ratio and opencv wants x,y coordinates\n",
    "        imageHeight, imageWidth, _ = image.shape\n",
    "        results = hands.process(image)\n",
    "        \n",
    "        \n",
    "        image = cv2.cvtColor(image, cv2.COLOR_RGB2BGR)\n",
    "        \n",
    "        \n",
    "        \n",
    "        font= cv2.FONT_HERSHEY_SIMPLEX\n",
    "        color=(255,0,255)\n",
    "        text = cv2.putText(image, \"Score\", (480,30), font, 1, color, 4, cv2.LINE_AA)\n",
    "        text = cv2.putText(image,str(score), (590,30), font, 1, color,4,cv2.LINE_AA)\n",
    "        \n",
    "        enemy()\n",
    "        \n",
    "        \n",
    "        \n",
    "        if results.multi_hand_landmarks:\n",
    "#             hand variable has ratio of hand\n",
    "            for num, hand in enumerate(results.multi_hand_landmarks):\n",
    "                mp_drawing.draw_landmarks(image, hand, mp_hands.HAND_CONNECTIONS, mp_drawing.DrawingSpec(color=(250,44,250),thickness=2, circle_radius=2),)\n",
    "                \n",
    "        if results.multi_hand_landmarks != None:\n",
    "            for handLandmarks in results.multi_hand_landmarks:\n",
    "                for point in mp_hands.HandLandmark:\n",
    "                    \n",
    "                    normalizedLandmark = handLandmarks.landmark[point]\n",
    "                    pixelCoordinatesLandmark = mp_drawing._normalized_to_pixel_coordinates(normalizedLandmark.x, normalizedLandmark.y, imageWidth, imageHeight)\n",
    "                    \n",
    "                    point = str(point)\n",
    "                    if point == 'HandLandmark.INDEX_FINGER_TIP':\n",
    "                        try:\n",
    "                            cv2.circle(image, (pixelCoordinatesLandmark[0], pixelCoordinatesLandmark[1]), 25, (0,200,0), 5) #25 is the radius of circle, () is color and 5 is pen size\n",
    "                            if pixelCoordinatesLandmark[0]==x_enemy or pixelCoordinatesLandmark[0]==x_enemy+10 or pixelCoordinatesLandmark[0]==x_enemy-10:\n",
    "                                print(\"Found\")\n",
    "                                x_enemy = random.randint(50,600) #640,480\n",
    "                                y_enemy= random.randint(50,400)\n",
    "                                score = score+1\n",
    "                                font= cv2.FONT_HERSHEY_SIMPLEX\n",
    "                                color=(255,0,255)\n",
    "                                text=cv2.putText(frame, \"Score\",(100,100),font,1,color,4,cv2,LINE_AA)\n",
    "                                enemy()\n",
    "                        except:\n",
    "                            pass\n",
    "        cv2.imshow('Hand Tracking', image)\n",
    "        \n",
    "        if cv2.waitKey(10) & 0xFF == ord('q'):\n",
    "            print(score)\n",
    "            break\n",
    "            \n",
    "video.release()\n",
    "cv2.destroyAllWindows()\n",
    "                    "
   ]
  },
  {
   "cell_type": "code",
   "execution_count": null,
   "id": "514bf342",
   "metadata": {},
   "outputs": [],
   "source": []
  }
 ],
 "metadata": {
  "kernelspec": {
   "display_name": "Python 3 (ipykernel)",
   "language": "python",
   "name": "python3"
  },
  "language_info": {
   "codemirror_mode": {
    "name": "ipython",
    "version": 3
   },
   "file_extension": ".py",
   "mimetype": "text/x-python",
   "name": "python",
   "nbconvert_exporter": "python",
   "pygments_lexer": "ipython3",
   "version": "3.10.9"
  }
 },
 "nbformat": 4,
 "nbformat_minor": 5
}
